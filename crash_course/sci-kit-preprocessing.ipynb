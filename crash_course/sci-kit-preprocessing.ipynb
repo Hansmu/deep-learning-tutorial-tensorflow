{
  "cells": [
    {
      "cell_type": "code",
      "execution_count": 12,
      "metadata": {
        "collapsed": true,
        "pycharm": {
          "is_executing": false
        }
      },
      "outputs": [],
      "source": "import numpy as np\nfrom sklearn.preprocessing import MinMaxScaler\nfrom sklearn.model_selection import train_test_split\nimport pandas as pd"
    },
    {
      "cell_type": "code",
      "execution_count": 2,
      "outputs": [],
      "source": "data \u003d np.random.randint(0, 100, (10, 2))",
      "metadata": {
        "pycharm": {
          "metadata": false,
          "name": "#%%\n",
          "is_executing": false
        }
      }
    },
    {
      "cell_type": "markdown",
      "source": "Create an instance of the MinMaxScaler and then use it to learn our data so we can manipulate it.",
      "metadata": {
        "pycharm": {
          "metadata": false,
          "name": "#%% md\n"
        }
      }
    },
    {
      "cell_type": "code",
      "execution_count": 3,
      "outputs": [
        {
          "name": "stderr",
          "text": [
            "C:\\Users\\Hans\\AppData\\Local\\Programs\\Python\\Python37-32\\lib\\site-packages\\sklearn\\utils\\validation.py:595: DataConversionWarning: Data with input dtype int32 was converted to float64 by MinMaxScaler.\n  warnings.warn(msg, DataConversionWarning)\n"
          ],
          "output_type": "stream"
        },
        {
          "data": {
            "text/plain": "MinMaxScaler(copy\u003dTrue, feature_range\u003d(0, 1))"
          },
          "metadata": {},
          "output_type": "execute_result",
          "execution_count": 3
        }
      ],
      "source": "scaler_model \u003d MinMaxScaler()\nscaler_model.fit(data)",
      "metadata": {
        "pycharm": {
          "metadata": false,
          "name": "#%%\n",
          "is_executing": false
        }
      }
    },
    {
      "cell_type": "markdown",
      "source": "Get the data onto the same scale.",
      "metadata": {
        "pycharm": {
          "metadata": false,
          "name": "#%% md\n"
        }
      }
    },
    {
      "cell_type": "code",
      "execution_count": 4,
      "outputs": [
        {
          "data": {
            "text/plain": "array([[0.11956522, 0.68115942],\n       [0.29347826, 0.84057971],\n       [1.        , 0.1884058 ],\n       [0.39130435, 0.84057971],\n       [0.07608696, 0.63768116],\n       [0.97826087, 0.50724638],\n       [0.54347826, 0.        ],\n       [0.34782609, 1.        ],\n       [0.25      , 0.42028986],\n       [0.        , 0.46376812]])"
          },
          "metadata": {},
          "output_type": "execute_result",
          "execution_count": 4
        }
      ],
      "source": "scaler_model.transform(data)",
      "metadata": {
        "pycharm": {
          "metadata": false,
          "name": "#%%\n",
          "is_executing": false
        }
      }
    },
    {
      "cell_type": "markdown",
      "source": "Can also perform both of the above steps at once.",
      "metadata": {
        "pycharm": {
          "metadata": false,
          "name": "#%% md\n"
        }
      }
    },
    {
      "cell_type": "code",
      "execution_count": 5,
      "outputs": [
        {
          "name": "stderr",
          "text": [
            "C:\\Users\\Hans\\AppData\\Local\\Programs\\Python\\Python37-32\\lib\\site-packages\\sklearn\\utils\\validation.py:595: DataConversionWarning: Data with input dtype int32 was converted to float64 by MinMaxScaler.\n  warnings.warn(msg, DataConversionWarning)\n"
          ],
          "output_type": "stream"
        },
        {
          "data": {
            "text/plain": "array([[0.11956522, 0.68115942],\n       [0.29347826, 0.84057971],\n       [1.        , 0.1884058 ],\n       [0.39130435, 0.84057971],\n       [0.07608696, 0.63768116],\n       [0.97826087, 0.50724638],\n       [0.54347826, 0.        ],\n       [0.34782609, 1.        ],\n       [0.25      , 0.42028986],\n       [0.        , 0.46376812]])"
          },
          "metadata": {},
          "output_type": "execute_result",
          "execution_count": 5
        }
      ],
      "source": "scaler_model.fit_transform(data)",
      "metadata": {
        "pycharm": {
          "metadata": false,
          "name": "#%%\n",
          "is_executing": false
        }
      }
    },
    {
      "cell_type": "code",
      "execution_count": 8,
      "outputs": [],
      "source": "my_data \u003d np.random.randint(0, 101, (50, 4))\ndata \u003d pd.DataFrame(data \u003d my_data, columns \u003d [\u0027f1\u0027, \u0027f2\u0027, \u0027f3\u0027, \u0027label\u0027])",
      "metadata": {
        "pycharm": {
          "metadata": false,
          "name": "#%%\n",
          "is_executing": false
        }
      }
    },
    {
      "cell_type": "code",
      "execution_count": 9,
      "outputs": [
        {
          "data": {
            "text/html": "\u003cdiv\u003e\n\u003cstyle scoped\u003e\n    .dataframe tbody tr th:only-of-type {\n        vertical-align: middle;\n    }\n\n    .dataframe tbody tr th {\n        vertical-align: top;\n    }\n\n    .dataframe thead th {\n        text-align: right;\n    }\n\u003c/style\u003e\n\u003ctable border\u003d\"1\" class\u003d\"dataframe\"\u003e\n  \u003cthead\u003e\n    \u003ctr style\u003d\"text-align: right;\"\u003e\n      \u003cth\u003e\u003c/th\u003e\n      \u003cth\u003ef1\u003c/th\u003e\n      \u003cth\u003ef2\u003c/th\u003e\n      \u003cth\u003ef3\u003c/th\u003e\n      \u003cth\u003elabel\u003c/th\u003e\n    \u003c/tr\u003e\n  \u003c/thead\u003e\n  \u003ctbody\u003e\n    \u003ctr\u003e\n      \u003cth\u003e0\u003c/th\u003e\n      \u003ctd\u003e4\u003c/td\u003e\n      \u003ctd\u003e3\u003c/td\u003e\n      \u003ctd\u003e2\u003c/td\u003e\n      \u003ctd\u003e22\u003c/td\u003e\n    \u003c/tr\u003e\n    \u003ctr\u003e\n      \u003cth\u003e1\u003c/th\u003e\n      \u003ctd\u003e51\u003c/td\u003e\n      \u003ctd\u003e0\u003c/td\u003e\n      \u003ctd\u003e91\u003c/td\u003e\n      \u003ctd\u003e20\u003c/td\u003e\n    \u003c/tr\u003e\n    \u003ctr\u003e\n      \u003cth\u003e2\u003c/th\u003e\n      \u003ctd\u003e65\u003c/td\u003e\n      \u003ctd\u003e43\u003c/td\u003e\n      \u003ctd\u003e58\u003c/td\u003e\n      \u003ctd\u003e46\u003c/td\u003e\n    \u003c/tr\u003e\n    \u003ctr\u003e\n      \u003cth\u003e3\u003c/th\u003e\n      \u003ctd\u003e37\u003c/td\u003e\n      \u003ctd\u003e3\u003c/td\u003e\n      \u003ctd\u003e30\u003c/td\u003e\n      \u003ctd\u003e73\u003c/td\u003e\n    \u003c/tr\u003e\n    \u003ctr\u003e\n      \u003cth\u003e4\u003c/th\u003e\n      \u003ctd\u003e37\u003c/td\u003e\n      \u003ctd\u003e71\u003c/td\u003e\n      \u003ctd\u003e43\u003c/td\u003e\n      \u003ctd\u003e41\u003c/td\u003e\n    \u003c/tr\u003e\n    \u003ctr\u003e\n      \u003cth\u003e5\u003c/th\u003e\n      \u003ctd\u003e83\u003c/td\u003e\n      \u003ctd\u003e16\u003c/td\u003e\n      \u003ctd\u003e74\u003c/td\u003e\n      \u003ctd\u003e11\u003c/td\u003e\n    \u003c/tr\u003e\n    \u003ctr\u003e\n      \u003cth\u003e6\u003c/th\u003e\n      \u003ctd\u003e86\u003c/td\u003e\n      \u003ctd\u003e8\u003c/td\u003e\n      \u003ctd\u003e95\u003c/td\u003e\n      \u003ctd\u003e27\u003c/td\u003e\n    \u003c/tr\u003e\n    \u003ctr\u003e\n      \u003cth\u003e7\u003c/th\u003e\n      \u003ctd\u003e29\u003c/td\u003e\n      \u003ctd\u003e26\u003c/td\u003e\n      \u003ctd\u003e31\u003c/td\u003e\n      \u003ctd\u003e82\u003c/td\u003e\n    \u003c/tr\u003e\n    \u003ctr\u003e\n      \u003cth\u003e8\u003c/th\u003e\n      \u003ctd\u003e22\u003c/td\u003e\n      \u003ctd\u003e78\u003c/td\u003e\n      \u003ctd\u003e21\u003c/td\u003e\n      \u003ctd\u003e40\u003c/td\u003e\n    \u003c/tr\u003e\n    \u003ctr\u003e\n      \u003cth\u003e9\u003c/th\u003e\n      \u003ctd\u003e30\u003c/td\u003e\n      \u003ctd\u003e66\u003c/td\u003e\n      \u003ctd\u003e67\u003c/td\u003e\n      \u003ctd\u003e88\u003c/td\u003e\n    \u003c/tr\u003e\n    \u003ctr\u003e\n      \u003cth\u003e10\u003c/th\u003e\n      \u003ctd\u003e44\u003c/td\u003e\n      \u003ctd\u003e86\u003c/td\u003e\n      \u003ctd\u003e13\u003c/td\u003e\n      \u003ctd\u003e10\u003c/td\u003e\n    \u003c/tr\u003e\n    \u003ctr\u003e\n      \u003cth\u003e11\u003c/th\u003e\n      \u003ctd\u003e97\u003c/td\u003e\n      \u003ctd\u003e67\u003c/td\u003e\n      \u003ctd\u003e79\u003c/td\u003e\n      \u003ctd\u003e24\u003c/td\u003e\n    \u003c/tr\u003e\n    \u003ctr\u003e\n      \u003cth\u003e12\u003c/th\u003e\n      \u003ctd\u003e71\u003c/td\u003e\n      \u003ctd\u003e81\u003c/td\u003e\n      \u003ctd\u003e22\u003c/td\u003e\n      \u003ctd\u003e25\u003c/td\u003e\n    \u003c/tr\u003e\n    \u003ctr\u003e\n      \u003cth\u003e13\u003c/th\u003e\n      \u003ctd\u003e92\u003c/td\u003e\n      \u003ctd\u003e94\u003c/td\u003e\n      \u003ctd\u003e100\u003c/td\u003e\n      \u003ctd\u003e5\u003c/td\u003e\n    \u003c/tr\u003e\n    \u003ctr\u003e\n      \u003cth\u003e14\u003c/th\u003e\n      \u003ctd\u003e47\u003c/td\u003e\n      \u003ctd\u003e27\u003c/td\u003e\n      \u003ctd\u003e89\u003c/td\u003e\n      \u003ctd\u003e9\u003c/td\u003e\n    \u003c/tr\u003e\n    \u003ctr\u003e\n      \u003cth\u003e15\u003c/th\u003e\n      \u003ctd\u003e96\u003c/td\u003e\n      \u003ctd\u003e90\u003c/td\u003e\n      \u003ctd\u003e4\u003c/td\u003e\n      \u003ctd\u003e84\u003c/td\u003e\n    \u003c/tr\u003e\n    \u003ctr\u003e\n      \u003cth\u003e16\u003c/th\u003e\n      \u003ctd\u003e9\u003c/td\u003e\n      \u003ctd\u003e23\u003c/td\u003e\n      \u003ctd\u003e59\u003c/td\u003e\n      \u003ctd\u003e70\u003c/td\u003e\n    \u003c/tr\u003e\n    \u003ctr\u003e\n      \u003cth\u003e17\u003c/th\u003e\n      \u003ctd\u003e19\u003c/td\u003e\n      \u003ctd\u003e14\u003c/td\u003e\n      \u003ctd\u003e36\u003c/td\u003e\n      \u003ctd\u003e28\u003c/td\u003e\n    \u003c/tr\u003e\n    \u003ctr\u003e\n      \u003cth\u003e18\u003c/th\u003e\n      \u003ctd\u003e76\u003c/td\u003e\n      \u003ctd\u003e49\u003c/td\u003e\n      \u003ctd\u003e29\u003c/td\u003e\n      \u003ctd\u003e50\u003c/td\u003e\n    \u003c/tr\u003e\n    \u003ctr\u003e\n      \u003cth\u003e19\u003c/th\u003e\n      \u003ctd\u003e46\u003c/td\u003e\n      \u003ctd\u003e0\u003c/td\u003e\n      \u003ctd\u003e66\u003c/td\u003e\n      \u003ctd\u003e12\u003c/td\u003e\n    \u003c/tr\u003e\n    \u003ctr\u003e\n      \u003cth\u003e20\u003c/th\u003e\n      \u003ctd\u003e13\u003c/td\u003e\n      \u003ctd\u003e24\u003c/td\u003e\n      \u003ctd\u003e59\u003c/td\u003e\n      \u003ctd\u003e22\u003c/td\u003e\n    \u003c/tr\u003e\n    \u003ctr\u003e\n      \u003cth\u003e21\u003c/th\u003e\n      \u003ctd\u003e52\u003c/td\u003e\n      \u003ctd\u003e19\u003c/td\u003e\n      \u003ctd\u003e99\u003c/td\u003e\n      \u003ctd\u003e53\u003c/td\u003e\n    \u003c/tr\u003e\n    \u003ctr\u003e\n      \u003cth\u003e22\u003c/th\u003e\n      \u003ctd\u003e59\u003c/td\u003e\n      \u003ctd\u003e28\u003c/td\u003e\n      \u003ctd\u003e96\u003c/td\u003e\n      \u003ctd\u003e97\u003c/td\u003e\n    \u003c/tr\u003e\n    \u003ctr\u003e\n      \u003cth\u003e23\u003c/th\u003e\n      \u003ctd\u003e9\u003c/td\u003e\n      \u003ctd\u003e66\u003c/td\u003e\n      \u003ctd\u003e77\u003c/td\u003e\n      \u003ctd\u003e63\u003c/td\u003e\n    \u003c/tr\u003e\n    \u003ctr\u003e\n      \u003cth\u003e24\u003c/th\u003e\n      \u003ctd\u003e93\u003c/td\u003e\n      \u003ctd\u003e39\u003c/td\u003e\n      \u003ctd\u003e40\u003c/td\u003e\n      \u003ctd\u003e95\u003c/td\u003e\n    \u003c/tr\u003e\n    \u003ctr\u003e\n      \u003cth\u003e25\u003c/th\u003e\n      \u003ctd\u003e87\u003c/td\u003e\n      \u003ctd\u003e31\u003c/td\u003e\n      \u003ctd\u003e23\u003c/td\u003e\n      \u003ctd\u003e76\u003c/td\u003e\n    \u003c/tr\u003e\n    \u003ctr\u003e\n      \u003cth\u003e26\u003c/th\u003e\n      \u003ctd\u003e61\u003c/td\u003e\n      \u003ctd\u003e46\u003c/td\u003e\n      \u003ctd\u003e77\u003c/td\u003e\n      \u003ctd\u003e29\u003c/td\u003e\n    \u003c/tr\u003e\n    \u003ctr\u003e\n      \u003cth\u003e27\u003c/th\u003e\n      \u003ctd\u003e35\u003c/td\u003e\n      \u003ctd\u003e5\u003c/td\u003e\n      \u003ctd\u003e9\u003c/td\u003e\n      \u003ctd\u003e84\u003c/td\u003e\n    \u003c/tr\u003e\n    \u003ctr\u003e\n      \u003cth\u003e28\u003c/th\u003e\n      \u003ctd\u003e80\u003c/td\u003e\n      \u003ctd\u003e1\u003c/td\u003e\n      \u003ctd\u003e24\u003c/td\u003e\n      \u003ctd\u003e10\u003c/td\u003e\n    \u003c/tr\u003e\n    \u003ctr\u003e\n      \u003cth\u003e29\u003c/th\u003e\n      \u003ctd\u003e97\u003c/td\u003e\n      \u003ctd\u003e11\u003c/td\u003e\n      \u003ctd\u003e0\u003c/td\u003e\n      \u003ctd\u003e38\u003c/td\u003e\n    \u003c/tr\u003e\n    \u003ctr\u003e\n      \u003cth\u003e30\u003c/th\u003e\n      \u003ctd\u003e48\u003c/td\u003e\n      \u003ctd\u003e62\u003c/td\u003e\n      \u003ctd\u003e15\u003c/td\u003e\n      \u003ctd\u003e35\u003c/td\u003e\n    \u003c/tr\u003e\n    \u003ctr\u003e\n      \u003cth\u003e31\u003c/th\u003e\n      \u003ctd\u003e91\u003c/td\u003e\n      \u003ctd\u003e1\u003c/td\u003e\n      \u003ctd\u003e70\u003c/td\u003e\n      \u003ctd\u003e84\u003c/td\u003e\n    \u003c/tr\u003e\n    \u003ctr\u003e\n      \u003cth\u003e32\u003c/th\u003e\n      \u003ctd\u003e17\u003c/td\u003e\n      \u003ctd\u003e54\u003c/td\u003e\n      \u003ctd\u003e95\u003c/td\u003e\n      \u003ctd\u003e9\u003c/td\u003e\n    \u003c/tr\u003e\n    \u003ctr\u003e\n      \u003cth\u003e33\u003c/th\u003e\n      \u003ctd\u003e90\u003c/td\u003e\n      \u003ctd\u003e30\u003c/td\u003e\n      \u003ctd\u003e49\u003c/td\u003e\n      \u003ctd\u003e63\u003c/td\u003e\n    \u003c/tr\u003e\n    \u003ctr\u003e\n      \u003cth\u003e34\u003c/th\u003e\n      \u003ctd\u003e84\u003c/td\u003e\n      \u003ctd\u003e5\u003c/td\u003e\n      \u003ctd\u003e38\u003c/td\u003e\n      \u003ctd\u003e36\u003c/td\u003e\n    \u003c/tr\u003e\n    \u003ctr\u003e\n      \u003cth\u003e35\u003c/th\u003e\n      \u003ctd\u003e4\u003c/td\u003e\n      \u003ctd\u003e37\u003c/td\u003e\n      \u003ctd\u003e97\u003c/td\u003e\n      \u003ctd\u003e55\u003c/td\u003e\n    \u003c/tr\u003e\n    \u003ctr\u003e\n      \u003cth\u003e36\u003c/th\u003e\n      \u003ctd\u003e75\u003c/td\u003e\n      \u003ctd\u003e96\u003c/td\u003e\n      \u003ctd\u003e45\u003c/td\u003e\n      \u003ctd\u003e5\u003c/td\u003e\n    \u003c/tr\u003e\n    \u003ctr\u003e\n      \u003cth\u003e37\u003c/th\u003e\n      \u003ctd\u003e7\u003c/td\u003e\n      \u003ctd\u003e21\u003c/td\u003e\n      \u003ctd\u003e63\u003c/td\u003e\n      \u003ctd\u003e0\u003c/td\u003e\n    \u003c/tr\u003e\n    \u003ctr\u003e\n      \u003cth\u003e38\u003c/th\u003e\n      \u003ctd\u003e88\u003c/td\u003e\n      \u003ctd\u003e80\u003c/td\u003e\n      \u003ctd\u003e91\u003c/td\u003e\n      \u003ctd\u003e63\u003c/td\u003e\n    \u003c/tr\u003e\n    \u003ctr\u003e\n      \u003cth\u003e39\u003c/th\u003e\n      \u003ctd\u003e6\u003c/td\u003e\n      \u003ctd\u003e57\u003c/td\u003e\n      \u003ctd\u003e67\u003c/td\u003e\n      \u003ctd\u003e99\u003c/td\u003e\n    \u003c/tr\u003e\n    \u003ctr\u003e\n      \u003cth\u003e40\u003c/th\u003e\n      \u003ctd\u003e46\u003c/td\u003e\n      \u003ctd\u003e66\u003c/td\u003e\n      \u003ctd\u003e38\u003c/td\u003e\n      \u003ctd\u003e66\u003c/td\u003e\n    \u003c/tr\u003e\n    \u003ctr\u003e\n      \u003cth\u003e41\u003c/th\u003e\n      \u003ctd\u003e36\u003c/td\u003e\n      \u003ctd\u003e27\u003c/td\u003e\n      \u003ctd\u003e89\u003c/td\u003e\n      \u003ctd\u003e50\u003c/td\u003e\n    \u003c/tr\u003e\n    \u003ctr\u003e\n      \u003cth\u003e42\u003c/th\u003e\n      \u003ctd\u003e20\u003c/td\u003e\n      \u003ctd\u003e18\u003c/td\u003e\n      \u003ctd\u003e96\u003c/td\u003e\n      \u003ctd\u003e3\u003c/td\u003e\n    \u003c/tr\u003e\n    \u003ctr\u003e\n      \u003cth\u003e43\u003c/th\u003e\n      \u003ctd\u003e26\u003c/td\u003e\n      \u003ctd\u003e36\u003c/td\u003e\n      \u003ctd\u003e55\u003c/td\u003e\n      \u003ctd\u003e63\u003c/td\u003e\n    \u003c/tr\u003e\n    \u003ctr\u003e\n      \u003cth\u003e44\u003c/th\u003e\n      \u003ctd\u003e73\u003c/td\u003e\n      \u003ctd\u003e49\u003c/td\u003e\n      \u003ctd\u003e6\u003c/td\u003e\n      \u003ctd\u003e9\u003c/td\u003e\n    \u003c/tr\u003e\n    \u003ctr\u003e\n      \u003cth\u003e45\u003c/th\u003e\n      \u003ctd\u003e52\u003c/td\u003e\n      \u003ctd\u003e93\u003c/td\u003e\n      \u003ctd\u003e82\u003c/td\u003e\n      \u003ctd\u003e75\u003c/td\u003e\n    \u003c/tr\u003e\n    \u003ctr\u003e\n      \u003cth\u003e46\u003c/th\u003e\n      \u003ctd\u003e83\u003c/td\u003e\n      \u003ctd\u003e96\u003c/td\u003e\n      \u003ctd\u003e98\u003c/td\u003e\n      \u003ctd\u003e36\u003c/td\u003e\n    \u003c/tr\u003e\n    \u003ctr\u003e\n      \u003cth\u003e47\u003c/th\u003e\n      \u003ctd\u003e77\u003c/td\u003e\n      \u003ctd\u003e13\u003c/td\u003e\n      \u003ctd\u003e57\u003c/td\u003e\n      \u003ctd\u003e79\u003c/td\u003e\n    \u003c/tr\u003e\n    \u003ctr\u003e\n      \u003cth\u003e48\u003c/th\u003e\n      \u003ctd\u003e48\u003c/td\u003e\n      \u003ctd\u003e96\u003c/td\u003e\n      \u003ctd\u003e77\u003c/td\u003e\n      \u003ctd\u003e37\u003c/td\u003e\n    \u003c/tr\u003e\n    \u003ctr\u003e\n      \u003cth\u003e49\u003c/th\u003e\n      \u003ctd\u003e49\u003c/td\u003e\n      \u003ctd\u003e5\u003c/td\u003e\n      \u003ctd\u003e65\u003c/td\u003e\n      \u003ctd\u003e100\u003c/td\u003e\n    \u003c/tr\u003e\n  \u003c/tbody\u003e\n\u003c/table\u003e\n\u003c/div\u003e",
            "text/plain": "    f1  f2   f3  label\n0    4   3    2     22\n1   51   0   91     20\n2   65  43   58     46\n3   37   3   30     73\n4   37  71   43     41\n5   83  16   74     11\n6   86   8   95     27\n7   29  26   31     82\n8   22  78   21     40\n9   30  66   67     88\n10  44  86   13     10\n11  97  67   79     24\n12  71  81   22     25\n13  92  94  100      5\n14  47  27   89      9\n15  96  90    4     84\n16   9  23   59     70\n17  19  14   36     28\n18  76  49   29     50\n19  46   0   66     12\n20  13  24   59     22\n21  52  19   99     53\n22  59  28   96     97\n23   9  66   77     63\n24  93  39   40     95\n25  87  31   23     76\n26  61  46   77     29\n27  35   5    9     84\n28  80   1   24     10\n29  97  11    0     38\n30  48  62   15     35\n31  91   1   70     84\n32  17  54   95      9\n33  90  30   49     63\n34  84   5   38     36\n35   4  37   97     55\n36  75  96   45      5\n37   7  21   63      0\n38  88  80   91     63\n39   6  57   67     99\n40  46  66   38     66\n41  36  27   89     50\n42  20  18   96      3\n43  26  36   55     63\n44  73  49    6      9\n45  52  93   82     75\n46  83  96   98     36\n47  77  13   57     79\n48  48  96   77     37\n49  49   5   65    100"
          },
          "metadata": {},
          "output_type": "execute_result",
          "execution_count": 9
        }
      ],
      "source": "data",
      "metadata": {
        "pycharm": {
          "metadata": false,
          "name": "#%%\n",
          "is_executing": false
        }
      }
    },
    {
      "cell_type": "code",
      "execution_count": 10,
      "outputs": [],
      "source": "X \u003d data[[\u0027f1\u0027, \u0027f2\u0027, \u0027f3\u0027]]\nY \u003d data[\u0027label\u0027]",
      "metadata": {
        "pycharm": {
          "metadata": false,
          "name": "#%%\n",
          "is_executing": false
        }
      }
    },
    {
      "cell_type": "code",
      "execution_count": 13,
      "outputs": [],
      "source": "X_train, X_test, y_train, y_test \u003d train_test_split(X, Y, test_size\u003d0.3, random_state\u003d42)",
      "metadata": {
        "pycharm": {
          "metadata": false,
          "name": "#%%\n",
          "is_executing": false
        }
      }
    },
    {
      "cell_type": "code",
      "execution_count": 15,
      "outputs": [
        {
          "data": {
            "text/plain": "(35, 3)"
          },
          "metadata": {},
          "output_type": "execute_result",
          "execution_count": 15
        }
      ],
      "source": "X_train.shape",
      "metadata": {
        "pycharm": {
          "metadata": false,
          "name": "#%%\n",
          "is_executing": false
        }
      }
    },
    {
      "cell_type": "code",
      "execution_count": 16,
      "outputs": [
        {
          "data": {
            "text/plain": "(15, 3)"
          },
          "metadata": {},
          "output_type": "execute_result",
          "execution_count": 16
        }
      ],
      "source": "X_test.shape",
      "metadata": {
        "pycharm": {
          "metadata": false,
          "name": "#%%\n",
          "is_executing": false
        }
      }
    },
    {
      "cell_type": "code",
      "execution_count": null,
      "outputs": [],
      "source": "\n",
      "metadata": {
        "pycharm": {
          "metadata": false,
          "name": "#%%\n"
        }
      }
    }
  ],
  "metadata": {
    "language_info": {
      "codemirror_mode": {
        "name": "ipython",
        "version": 2
      },
      "file_extension": ".py",
      "mimetype": "text/x-python",
      "name": "python",
      "nbconvert_exporter": "python",
      "pygments_lexer": "ipython2",
      "version": "2.7.6"
    },
    "kernelspec": {
      "name": "pycharm-8f2adbec",
      "language": "python",
      "display_name": "PyCharm (Tensorflow-Bootcamp-master)"
    }
  },
  "nbformat": 4,
  "nbformat_minor": 0
}