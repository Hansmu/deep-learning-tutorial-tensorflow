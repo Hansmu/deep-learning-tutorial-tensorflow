{
  "cells": [
    {
      "cell_type": "code",
      "execution_count": 1,
      "metadata": {
        "collapsed": true,
        "pycharm": {
          "is_executing": false
        }
      },
      "outputs": [],
      "source": "import numpy as np\nimport pandas as pd\nimport matplotlib.pyplot as plt"
    },
    {
      "cell_type": "markdown",
      "source": "To see the visualization inline with the notebook, then we have to have this line.\nIf we\u0027re not in the notebook, then we have to type in plt.show() after every plot to see it.",
      "metadata": {
        "pycharm": {
          "metadata": false,
          "name": "#%% md\n"
        }
      }
    },
    {
      "cell_type": "code",
      "execution_count": 2,
      "outputs": [],
      "source": "%matplotlib inline",
      "metadata": {
        "pycharm": {
          "metadata": false,
          "name": "#%%\n",
          "is_executing": false
        }
      }
    },
    {
      "cell_type": "code",
      "execution_count": 3,
      "outputs": [],
      "source": "x \u003d np.arange(0, 10)",
      "metadata": {
        "pycharm": {
          "metadata": false,
          "name": "#%%\n",
          "is_executing": false
        }
      }
    },
    {
      "cell_type": "code",
      "execution_count": 4,
      "outputs": [],
      "source": "y \u003d x ** 2",
      "metadata": {
        "pycharm": {
          "metadata": false,
          "name": "#%%\n",
          "is_executing": false
        }
      }
    },
    {
      "cell_type": "code",
      "execution_count": 7,
      "outputs": [
        {
          "data": {
            "text/plain": "Text(0, 0.5, \u0027Y Label\u0027)"
          },
          "metadata": {},
          "output_type": "execute_result",
          "execution_count": 7
        },
        {
          "data": {
            "text/plain": "\u003cFigure size 432x288 with 1 Axes\u003e",
            "image/png": "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\u003d\n"
          },
          "metadata": {
            "needs_background": "light"
          },
          "output_type": "display_data"
        }
      ],
      "source": "plt.plot(x, y)\nplt.xlim(0, 4)\nplt.ylim(0, 10)\nplt.title(\"TITLE\")\nplt.xlabel(\"X Label\")\nplt.ylabel(\"Y Label\")",
      "metadata": {
        "pycharm": {
          "metadata": false,
          "name": "#%%\n",
          "is_executing": false
        }
      }
    },
    {
      "cell_type": "code",
      "execution_count": 8,
      "outputs": [],
      "source": "mat \u003d np.arange(0, 100).reshape(10, 10)",
      "metadata": {
        "pycharm": {
          "metadata": false,
          "name": "#%%\n",
          "is_executing": false
        }
      }
    },
    {
      "cell_type": "code",
      "execution_count": 9,
      "outputs": [
        {
          "data": {
            "text/plain": "\u003cmatplotlib.image.AxesImage at 0x13847290\u003e"
          },
          "metadata": {},
          "output_type": "execute_result",
          "execution_count": 9
        },
        {
          "data": {
            "text/plain": "\u003cFigure size 432x288 with 1 Axes\u003e",
            "image/png": "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\u003d\u003d\n"
          },
          "metadata": {
            "needs_background": "light"
          },
          "output_type": "display_data"
        }
      ],
      "source": "plt.imshow(mat)\nplt.colorbar()",
      "metadata": {
        "pycharm": {
          "metadata": false,
          "name": "#%%\n",
          "is_executing": false
        }
      }
    },
    {
      "cell_type": "code",
      "execution_count": 10,
      "outputs": [],
      "source": "df \u003d pd.read_csv(\u0027salaries.csv\u0027)",
      "metadata": {
        "pycharm": {
          "metadata": false,
          "name": "#%%\n",
          "is_executing": false
        }
      }
    },
    {
      "cell_type": "code",
      "execution_count": 12,
      "outputs": [
        {
          "data": {
            "text/plain": "\u003cmatplotlib.axes._subplots.AxesSubplot at 0x138643d0\u003e"
          },
          "metadata": {},
          "output_type": "execute_result",
          "execution_count": 12
        },
        {
          "data": {
            "text/plain": "\u003cFigure size 432x288 with 1 Axes\u003e",
            "image/png": "[encoded data removed]"
          },
          "metadata": {
            "needs_background": "light"
          },
          "output_type": "display_data"
        }
      ],
      "source": "df.plot(x\u003d\u0027Salary\u0027, y\u003d\u0027Age\u0027, kind\u003d\u0027scatter\u0027)",
      "metadata": {
        "pycharm": {
          "metadata": false,
          "name": "#%%\n",
          "is_executing": false
        }
      }
    },
    {
      "cell_type": "code",
      "execution_count": null,
      "outputs": [],
      "source": "\n",
      "metadata": {
        "pycharm": {
          "metadata": false,
          "name": "#%%\n"
        }
      }
    }
  ],
  "metadata": {
    "language_info": {
      "codemirror_mode": {
        "name": "ipython",
        "version": 2
      },
      "file_extension": ".py",
      "mimetype": "text/x-python",
      "name": "python",
      "nbconvert_exporter": "python",
      "pygments_lexer": "ipython2",
      "version": "2.7.6"
    },
    "kernelspec": {
      "name": "pycharm-8f2adbec",
      "language": "python",
      "display_name": "PyCharm (Tensorflow-Bootcamp-master)"
    }
  },
  "nbformat": 4,
  "nbformat_minor": 0
}